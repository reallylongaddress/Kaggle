{
 "cells": [
  {
   "cell_type": "markdown",
   "metadata": {},
   "source": [
    "# Setup"
   ]
  },
  {
   "cell_type": "code",
   "execution_count": 1,
   "metadata": {
    "tags": []
   },
   "outputs": [],
   "source": [
    "import os\n",
    "import sys\n",
    "\n",
    "import numpy as np\n",
    "import pandas as pd\n",
    "import seaborn as sns\n",
    "import matplotlib.pyplot as plt\n",
    "\n",
    "from sklearn.model_selection import train_test_split\n",
    "from sklearn.linear_model import LinearRegression\n",
    "from sklearn.ensemble import IsolationForest\n",
    "from sklearn.metrics import mean_squared_error"
   ]
  },
  {
   "cell_type": "code",
   "execution_count": 2,
   "metadata": {},
   "outputs": [],
   "source": [
    "# !! pip install --upgrade numpy\n",
    "# ! pip install h2o\n"
   ]
  },
  {
   "cell_type": "code",
   "execution_count": 3,
   "metadata": {},
   "outputs": [
    {
     "name": "stdout",
     "output_type": "stream",
     "text": [
      "np version: 1.24.1\n"
     ]
    }
   ],
   "source": [
    "import numpy as np\n",
    "print(f'np version: {np.__version__}')"
   ]
  },
  {
   "cell_type": "code",
   "execution_count": 4,
   "metadata": {},
   "outputs": [],
   "source": [
    "import tensorflow as tf"
   ]
  },
  {
   "cell_type": "code",
   "execution_count": 6,
   "metadata": {},
   "outputs": [],
   "source": [
    "# model = tf.keras.applications.ResNet50(\n",
    "#     include_top=True,\n",
    "#     weights=None,\n",
    "#     input_shape=(32, 32, 3),\n",
    "#     classes=100,)\n",
    "# print('c')\n",
    "# loss_fn = tf.keras.losses.SparseCategoricalCrossentropy(from_logits=True)\n",
    "# print('e')\n",
    "# model.compile(optimizer=\"adam\", loss=loss_fn, metrics=[\"accuracy\"])\n",
    "# print('f')\n",
    "# model.fit(x_train, y_train, epochs=5, batch_size=64)\n",
    "# print('g')"
   ]
  },
  {
   "cell_type": "code",
   "execution_count": null,
   "metadata": {},
   "outputs": [],
   "source": [
    "\n"
   ]
  },
  {
   "cell_type": "code",
   "execution_count": 7,
   "metadata": {},
   "outputs": [],
   "source": [
    "# cifar = tf.keras.datasets.cifar100\n",
    "# (x_train, y_train), (x_test, y_test) = cifar.load_data()\n",
    "# model = tf.keras.applications.ResNet50(\n",
    "#     include_top=True,\n",
    "#     weights=None,\n",
    "#     input_shape=(32, 32, 3),\n",
    "#     classes=100,)\n",
    "# # \n",
    "# loss_fn = tf.keras.losses.SparseCategoricalCrossentropy(from_logits=True)\n",
    "# model.compile(optimizer=\"adam\", loss=loss_fn, metrics=[\"accuracy\"])\n",
    "# model.fit(x_train, y_train, epochs=5, batch_size=64)"
   ]
  },
  {
   "cell_type": "code",
   "execution_count": 8,
   "metadata": {},
   "outputs": [
    {
     "name": "stdout",
     "output_type": "stream",
     "text": [
      "Localhost\n"
     ]
    }
   ],
   "source": [
    "data_path = ''\n",
    "\n",
    "#kaggle\n",
    "if (os.environ.get('KAGGLE_KERNEL_RUN_TYPE','')) or (os.environ.get('KAGGLE_KERNEL_RUN_TYPE','') == 'Interactive') or (os.environ.get('KAGGLE_KERNEL_RUN_TYPE','') == 'Batch'):\n",
    "    print(\"Kaggle\")  \n",
    "    data_path = '/kaggle/input'    \n",
    "    \n",
    "#google colab\n",
    "elif 'google.colab' in sys.modules:\n",
    "    print('Google Colab')\n",
    "    data_path = 'do/something/here'\n",
    "    \n",
    "#localhost\n",
    "elif os.environ.get('KAGGLE_KERNEL_RUN_TYPE','') == '':\n",
    "    print('Localhost')\n",
    "    data_path = './kaggle/input'\n"
   ]
  },
  {
   "cell_type": "code",
   "execution_count": 9,
   "metadata": {
    "_cell_guid": "b1076dfc-b9ad-4769-8c92-a6c4dae69d19",
    "_uuid": "8f2839f25d086af736a60e9eeb907d3b93b6e0e5",
    "tags": []
   },
   "outputs": [
    {
     "name": "stdout",
     "output_type": "stream",
     "text": [
      "./kaggle/input/playground-series-s3e1/h2o_pred_robust.csv\n",
      "./kaggle/input/playground-series-s3e1/y_baseline_output.csv\n",
      "./kaggle/input/playground-series-s3e1/test.csv\n",
      "./kaggle/input/playground-series-s3e1/nn_pred.csv\n",
      "./kaggle/input/playground-series-s3e1/h2o_pred.csv\n",
      "./kaggle/input/playground-series-s3e1/train.csv\n",
      "./kaggle/input/playground-series-s3e1/h2o_pred_min_max.csv\n",
      "./kaggle/input/playground-series-s3e1/sample_submission.csv\n"
     ]
    }
   ],
   "source": [
    "# This Python 3 environment comes with many helpful analytics libraries installed\n",
    "# It is defined by the kaggle/python Docker image: https://github.com/kaggle/docker-python\n",
    "# For example, here's several helpful packages to load\n",
    "\n",
    "import numpy as np # linear algebra\n",
    "import pandas as pd # data processing, CSV file I/O (e.g. pd.read_csv)\n",
    "\n",
    "# Input data files are available in the read-only \"../input/\" directory\n",
    "# For example, running this (by clicking run or pressing Shift+Enter) will list all files under the input directory\n",
    "\n",
    "import os\n",
    "for dirname, _, filenames in os.walk(data_path):\n",
    "    for filename in filenames:\n",
    "        print(os.path.join(dirname, filename))\n",
    "\n",
    "# You can write up to 20GB to the current directory (/kaggle/working/) that gets preserved as output when you create a version using \"Save & Run All\" \n",
    "# You can also write temporary files to /kaggle/temp/, but they won't be saved outside of the current session"
   ]
  },
  {
   "cell_type": "markdown",
   "metadata": {},
   "source": [
    "# EDA"
   ]
  },
  {
   "cell_type": "code",
   "execution_count": 10,
   "metadata": {
    "tags": []
   },
   "outputs": [
    {
     "data": {
      "text/html": [
       "<div>\n",
       "<style scoped>\n",
       "    .dataframe tbody tr th:only-of-type {\n",
       "        vertical-align: middle;\n",
       "    }\n",
       "\n",
       "    .dataframe tbody tr th {\n",
       "        vertical-align: top;\n",
       "    }\n",
       "\n",
       "    .dataframe thead th {\n",
       "        text-align: right;\n",
       "    }\n",
       "</style>\n",
       "<table border=\"1\" class=\"dataframe\">\n",
       "  <thead>\n",
       "    <tr style=\"text-align: right;\">\n",
       "      <th></th>\n",
       "      <th>MedInc</th>\n",
       "      <th>HouseAge</th>\n",
       "      <th>AveRooms</th>\n",
       "      <th>AveBedrms</th>\n",
       "      <th>Population</th>\n",
       "      <th>AveOccup</th>\n",
       "      <th>Latitude</th>\n",
       "      <th>Longitude</th>\n",
       "      <th>MedHouseVal</th>\n",
       "    </tr>\n",
       "    <tr>\n",
       "      <th>id</th>\n",
       "      <th></th>\n",
       "      <th></th>\n",
       "      <th></th>\n",
       "      <th></th>\n",
       "      <th></th>\n",
       "      <th></th>\n",
       "      <th></th>\n",
       "      <th></th>\n",
       "      <th></th>\n",
       "    </tr>\n",
       "  </thead>\n",
       "  <tbody>\n",
       "    <tr>\n",
       "      <th>0</th>\n",
       "      <td>2.3859</td>\n",
       "      <td>15.0</td>\n",
       "      <td>3.827160</td>\n",
       "      <td>1.112100</td>\n",
       "      <td>1280.0</td>\n",
       "      <td>2.486989</td>\n",
       "      <td>34.60</td>\n",
       "      <td>-120.12</td>\n",
       "      <td>0.980</td>\n",
       "    </tr>\n",
       "    <tr>\n",
       "      <th>1</th>\n",
       "      <td>3.7188</td>\n",
       "      <td>17.0</td>\n",
       "      <td>6.013373</td>\n",
       "      <td>1.054217</td>\n",
       "      <td>1504.0</td>\n",
       "      <td>3.813084</td>\n",
       "      <td>38.69</td>\n",
       "      <td>-121.22</td>\n",
       "      <td>0.946</td>\n",
       "    </tr>\n",
       "    <tr>\n",
       "      <th>2</th>\n",
       "      <td>4.7750</td>\n",
       "      <td>27.0</td>\n",
       "      <td>6.535604</td>\n",
       "      <td>1.103175</td>\n",
       "      <td>1061.0</td>\n",
       "      <td>2.464602</td>\n",
       "      <td>34.71</td>\n",
       "      <td>-120.45</td>\n",
       "      <td>1.576</td>\n",
       "    </tr>\n",
       "    <tr>\n",
       "      <th>3</th>\n",
       "      <td>2.4138</td>\n",
       "      <td>16.0</td>\n",
       "      <td>3.350203</td>\n",
       "      <td>0.965432</td>\n",
       "      <td>1255.0</td>\n",
       "      <td>2.089286</td>\n",
       "      <td>32.66</td>\n",
       "      <td>-117.09</td>\n",
       "      <td>1.336</td>\n",
       "    </tr>\n",
       "    <tr>\n",
       "      <th>4</th>\n",
       "      <td>3.7500</td>\n",
       "      <td>52.0</td>\n",
       "      <td>4.284404</td>\n",
       "      <td>1.069246</td>\n",
       "      <td>1793.0</td>\n",
       "      <td>1.604790</td>\n",
       "      <td>37.80</td>\n",
       "      <td>-122.41</td>\n",
       "      <td>4.500</td>\n",
       "    </tr>\n",
       "    <tr>\n",
       "      <th>...</th>\n",
       "      <td>...</td>\n",
       "      <td>...</td>\n",
       "      <td>...</td>\n",
       "      <td>...</td>\n",
       "      <td>...</td>\n",
       "      <td>...</td>\n",
       "      <td>...</td>\n",
       "      <td>...</td>\n",
       "      <td>...</td>\n",
       "    </tr>\n",
       "    <tr>\n",
       "      <th>37132</th>\n",
       "      <td>3.3438</td>\n",
       "      <td>50.0</td>\n",
       "      <td>4.936508</td>\n",
       "      <td>1.079365</td>\n",
       "      <td>1775.0</td>\n",
       "      <td>3.022222</td>\n",
       "      <td>34.19</td>\n",
       "      <td>-118.36</td>\n",
       "      <td>1.856</td>\n",
       "    </tr>\n",
       "    <tr>\n",
       "      <th>37133</th>\n",
       "      <td>3.7308</td>\n",
       "      <td>26.0</td>\n",
       "      <td>5.087533</td>\n",
       "      <td>0.966019</td>\n",
       "      <td>1006.0</td>\n",
       "      <td>4.316901</td>\n",
       "      <td>37.32</td>\n",
       "      <td>-121.86</td>\n",
       "      <td>1.588</td>\n",
       "    </tr>\n",
       "    <tr>\n",
       "      <th>37134</th>\n",
       "      <td>4.1716</td>\n",
       "      <td>52.0</td>\n",
       "      <td>4.678862</td>\n",
       "      <td>1.101485</td>\n",
       "      <td>1156.0</td>\n",
       "      <td>1.431734</td>\n",
       "      <td>37.75</td>\n",
       "      <td>-122.44</td>\n",
       "      <td>3.387</td>\n",
       "    </tr>\n",
       "    <tr>\n",
       "      <th>37135</th>\n",
       "      <td>2.7143</td>\n",
       "      <td>16.0</td>\n",
       "      <td>5.710074</td>\n",
       "      <td>1.068376</td>\n",
       "      <td>584.0</td>\n",
       "      <td>2.803659</td>\n",
       "      <td>38.40</td>\n",
       "      <td>-120.98</td>\n",
       "      <td>1.592</td>\n",
       "    </tr>\n",
       "    <tr>\n",
       "      <th>37136</th>\n",
       "      <td>2.2419</td>\n",
       "      <td>34.0</td>\n",
       "      <td>5.424419</td>\n",
       "      <td>1.058685</td>\n",
       "      <td>1340.0</td>\n",
       "      <td>3.799065</td>\n",
       "      <td>36.34</td>\n",
       "      <td>-119.64</td>\n",
       "      <td>0.652</td>\n",
       "    </tr>\n",
       "  </tbody>\n",
       "</table>\n",
       "<p>37137 rows × 9 columns</p>\n",
       "</div>"
      ],
      "text/plain": [
       "       MedInc  HouseAge  AveRooms  AveBedrms  Population  AveOccup  Latitude  \\\n",
       "id                                                                             \n",
       "0      2.3859      15.0  3.827160   1.112100      1280.0  2.486989     34.60   \n",
       "1      3.7188      17.0  6.013373   1.054217      1504.0  3.813084     38.69   \n",
       "2      4.7750      27.0  6.535604   1.103175      1061.0  2.464602     34.71   \n",
       "3      2.4138      16.0  3.350203   0.965432      1255.0  2.089286     32.66   \n",
       "4      3.7500      52.0  4.284404   1.069246      1793.0  1.604790     37.80   \n",
       "...       ...       ...       ...        ...         ...       ...       ...   \n",
       "37132  3.3438      50.0  4.936508   1.079365      1775.0  3.022222     34.19   \n",
       "37133  3.7308      26.0  5.087533   0.966019      1006.0  4.316901     37.32   \n",
       "37134  4.1716      52.0  4.678862   1.101485      1156.0  1.431734     37.75   \n",
       "37135  2.7143      16.0  5.710074   1.068376       584.0  2.803659     38.40   \n",
       "37136  2.2419      34.0  5.424419   1.058685      1340.0  3.799065     36.34   \n",
       "\n",
       "       Longitude  MedHouseVal  \n",
       "id                             \n",
       "0        -120.12        0.980  \n",
       "1        -121.22        0.946  \n",
       "2        -120.45        1.576  \n",
       "3        -117.09        1.336  \n",
       "4        -122.41        4.500  \n",
       "...          ...          ...  \n",
       "37132    -118.36        1.856  \n",
       "37133    -121.86        1.588  \n",
       "37134    -122.44        3.387  \n",
       "37135    -120.98        1.592  \n",
       "37136    -119.64        0.652  \n",
       "\n",
       "[37137 rows x 9 columns]"
      ]
     },
     "execution_count": 10,
     "metadata": {},
     "output_type": "execute_result"
    }
   ],
   "source": [
    "train_df = pd.read_csv(f'{data_path}/playground-series-s3e1/train.csv', index_col='id')\n",
    "train_df"
   ]
  },
  {
   "cell_type": "code",
   "execution_count": 11,
   "metadata": {
    "tags": []
   },
   "outputs": [
    {
     "data": {
      "text/plain": [
       "MedInc         0\n",
       "HouseAge       0\n",
       "AveRooms       0\n",
       "AveBedrms      0\n",
       "Population     0\n",
       "AveOccup       0\n",
       "Latitude       0\n",
       "Longitude      0\n",
       "MedHouseVal    0\n",
       "dtype: int64"
      ]
     },
     "execution_count": 11,
     "metadata": {},
     "output_type": "execute_result"
    }
   ],
   "source": [
    "train_df.isna().sum()"
   ]
  },
  {
   "cell_type": "code",
   "execution_count": 12,
   "metadata": {
    "tags": []
   },
   "outputs": [
    {
     "data": {
      "text/html": [
       "<div>\n",
       "<style scoped>\n",
       "    .dataframe tbody tr th:only-of-type {\n",
       "        vertical-align: middle;\n",
       "    }\n",
       "\n",
       "    .dataframe tbody tr th {\n",
       "        vertical-align: top;\n",
       "    }\n",
       "\n",
       "    .dataframe thead th {\n",
       "        text-align: right;\n",
       "    }\n",
       "</style>\n",
       "<table border=\"1\" class=\"dataframe\">\n",
       "  <thead>\n",
       "    <tr style=\"text-align: right;\">\n",
       "      <th></th>\n",
       "      <th>id</th>\n",
       "      <th>MedInc</th>\n",
       "      <th>HouseAge</th>\n",
       "      <th>AveRooms</th>\n",
       "      <th>AveBedrms</th>\n",
       "      <th>Population</th>\n",
       "      <th>AveOccup</th>\n",
       "      <th>Latitude</th>\n",
       "      <th>Longitude</th>\n",
       "    </tr>\n",
       "  </thead>\n",
       "  <tbody>\n",
       "    <tr>\n",
       "      <th>0</th>\n",
       "      <td>37137</td>\n",
       "      <td>1.7062</td>\n",
       "      <td>35.0</td>\n",
       "      <td>4.966368</td>\n",
       "      <td>1.096539</td>\n",
       "      <td>1318.0</td>\n",
       "      <td>2.844411</td>\n",
       "      <td>39.75</td>\n",
       "      <td>-121.85</td>\n",
       "    </tr>\n",
       "    <tr>\n",
       "      <th>1</th>\n",
       "      <td>37138</td>\n",
       "      <td>1.3882</td>\n",
       "      <td>22.0</td>\n",
       "      <td>4.187035</td>\n",
       "      <td>1.098229</td>\n",
       "      <td>2296.0</td>\n",
       "      <td>3.180218</td>\n",
       "      <td>33.95</td>\n",
       "      <td>-118.29</td>\n",
       "    </tr>\n",
       "    <tr>\n",
       "      <th>2</th>\n",
       "      <td>37139</td>\n",
       "      <td>7.7197</td>\n",
       "      <td>21.0</td>\n",
       "      <td>7.129436</td>\n",
       "      <td>0.959276</td>\n",
       "      <td>1535.0</td>\n",
       "      <td>2.888889</td>\n",
       "      <td>33.61</td>\n",
       "      <td>-117.81</td>\n",
       "    </tr>\n",
       "    <tr>\n",
       "      <th>3</th>\n",
       "      <td>37140</td>\n",
       "      <td>4.6806</td>\n",
       "      <td>49.0</td>\n",
       "      <td>4.769697</td>\n",
       "      <td>1.048485</td>\n",
       "      <td>707.0</td>\n",
       "      <td>1.743590</td>\n",
       "      <td>34.17</td>\n",
       "      <td>-118.34</td>\n",
       "    </tr>\n",
       "    <tr>\n",
       "      <th>4</th>\n",
       "      <td>37141</td>\n",
       "      <td>3.1284</td>\n",
       "      <td>25.0</td>\n",
       "      <td>3.765306</td>\n",
       "      <td>1.081633</td>\n",
       "      <td>4716.0</td>\n",
       "      <td>2.003827</td>\n",
       "      <td>34.17</td>\n",
       "      <td>-118.29</td>\n",
       "    </tr>\n",
       "    <tr>\n",
       "      <th>...</th>\n",
       "      <td>...</td>\n",
       "      <td>...</td>\n",
       "      <td>...</td>\n",
       "      <td>...</td>\n",
       "      <td>...</td>\n",
       "      <td>...</td>\n",
       "      <td>...</td>\n",
       "      <td>...</td>\n",
       "      <td>...</td>\n",
       "    </tr>\n",
       "    <tr>\n",
       "      <th>24754</th>\n",
       "      <td>61891</td>\n",
       "      <td>2.2875</td>\n",
       "      <td>34.0</td>\n",
       "      <td>3.914729</td>\n",
       "      <td>1.085271</td>\n",
       "      <td>866.0</td>\n",
       "      <td>2.071429</td>\n",
       "      <td>34.44</td>\n",
       "      <td>-119.75</td>\n",
       "    </tr>\n",
       "    <tr>\n",
       "      <th>24755</th>\n",
       "      <td>61892</td>\n",
       "      <td>3.0781</td>\n",
       "      <td>33.0</td>\n",
       "      <td>4.771971</td>\n",
       "      <td>1.038674</td>\n",
       "      <td>1628.0</td>\n",
       "      <td>2.326848</td>\n",
       "      <td>34.09</td>\n",
       "      <td>-117.96</td>\n",
       "    </tr>\n",
       "    <tr>\n",
       "      <th>24756</th>\n",
       "      <td>61893</td>\n",
       "      <td>2.6961</td>\n",
       "      <td>14.0</td>\n",
       "      <td>4.593960</td>\n",
       "      <td>1.170380</td>\n",
       "      <td>3900.0</td>\n",
       "      <td>2.540034</td>\n",
       "      <td>37.51</td>\n",
       "      <td>-120.83</td>\n",
       "    </tr>\n",
       "    <tr>\n",
       "      <th>24757</th>\n",
       "      <td>61894</td>\n",
       "      <td>7.2315</td>\n",
       "      <td>8.0</td>\n",
       "      <td>7.508403</td>\n",
       "      <td>1.018692</td>\n",
       "      <td>1388.0</td>\n",
       "      <td>2.601202</td>\n",
       "      <td>33.67</td>\n",
       "      <td>-117.98</td>\n",
       "    </tr>\n",
       "    <tr>\n",
       "      <th>24758</th>\n",
       "      <td>61895</td>\n",
       "      <td>5.7260</td>\n",
       "      <td>30.0</td>\n",
       "      <td>6.000000</td>\n",
       "      <td>1.000000</td>\n",
       "      <td>15.0</td>\n",
       "      <td>2.500000</td>\n",
       "      <td>37.96</td>\n",
       "      <td>-122.47</td>\n",
       "    </tr>\n",
       "  </tbody>\n",
       "</table>\n",
       "<p>24759 rows × 9 columns</p>\n",
       "</div>"
      ],
      "text/plain": [
       "          id  MedInc  HouseAge  AveRooms  AveBedrms  Population  AveOccup  \\\n",
       "0      37137  1.7062      35.0  4.966368   1.096539      1318.0  2.844411   \n",
       "1      37138  1.3882      22.0  4.187035   1.098229      2296.0  3.180218   \n",
       "2      37139  7.7197      21.0  7.129436   0.959276      1535.0  2.888889   \n",
       "3      37140  4.6806      49.0  4.769697   1.048485       707.0  1.743590   \n",
       "4      37141  3.1284      25.0  3.765306   1.081633      4716.0  2.003827   \n",
       "...      ...     ...       ...       ...        ...         ...       ...   \n",
       "24754  61891  2.2875      34.0  3.914729   1.085271       866.0  2.071429   \n",
       "24755  61892  3.0781      33.0  4.771971   1.038674      1628.0  2.326848   \n",
       "24756  61893  2.6961      14.0  4.593960   1.170380      3900.0  2.540034   \n",
       "24757  61894  7.2315       8.0  7.508403   1.018692      1388.0  2.601202   \n",
       "24758  61895  5.7260      30.0  6.000000   1.000000        15.0  2.500000   \n",
       "\n",
       "       Latitude  Longitude  \n",
       "0         39.75    -121.85  \n",
       "1         33.95    -118.29  \n",
       "2         33.61    -117.81  \n",
       "3         34.17    -118.34  \n",
       "4         34.17    -118.29  \n",
       "...         ...        ...  \n",
       "24754     34.44    -119.75  \n",
       "24755     34.09    -117.96  \n",
       "24756     37.51    -120.83  \n",
       "24757     33.67    -117.98  \n",
       "24758     37.96    -122.47  \n",
       "\n",
       "[24759 rows x 9 columns]"
      ]
     },
     "execution_count": 12,
     "metadata": {},
     "output_type": "execute_result"
    }
   ],
   "source": [
    "test_df = pd.read_csv(f'{data_path}/playground-series-s3e1/test.csv')\n",
    "test_df"
   ]
  },
  {
   "cell_type": "code",
   "execution_count": 13,
   "metadata": {
    "tags": []
   },
   "outputs": [
    {
     "data": {
      "text/html": [
       "<div>\n",
       "<style scoped>\n",
       "    .dataframe tbody tr th:only-of-type {\n",
       "        vertical-align: middle;\n",
       "    }\n",
       "\n",
       "    .dataframe tbody tr th {\n",
       "        vertical-align: top;\n",
       "    }\n",
       "\n",
       "    .dataframe thead th {\n",
       "        text-align: right;\n",
       "    }\n",
       "</style>\n",
       "<table border=\"1\" class=\"dataframe\">\n",
       "  <thead>\n",
       "    <tr style=\"text-align: right;\">\n",
       "      <th></th>\n",
       "      <th>MedInc</th>\n",
       "      <th>HouseAge</th>\n",
       "      <th>AveRooms</th>\n",
       "      <th>AveBedrms</th>\n",
       "      <th>Population</th>\n",
       "      <th>AveOccup</th>\n",
       "      <th>Latitude</th>\n",
       "      <th>Longitude</th>\n",
       "      <th>MedHouseVal</th>\n",
       "    </tr>\n",
       "  </thead>\n",
       "  <tbody>\n",
       "    <tr>\n",
       "      <th>count</th>\n",
       "      <td>37137.000000</td>\n",
       "      <td>37137.000000</td>\n",
       "      <td>37137.000000</td>\n",
       "      <td>37137.000000</td>\n",
       "      <td>37137.000000</td>\n",
       "      <td>37137.000000</td>\n",
       "      <td>37137.000000</td>\n",
       "      <td>37137.000000</td>\n",
       "      <td>37137.000000</td>\n",
       "    </tr>\n",
       "    <tr>\n",
       "      <th>mean</th>\n",
       "      <td>3.851029</td>\n",
       "      <td>26.057005</td>\n",
       "      <td>5.163124</td>\n",
       "      <td>1.062204</td>\n",
       "      <td>1660.778919</td>\n",
       "      <td>2.831243</td>\n",
       "      <td>35.570030</td>\n",
       "      <td>-119.554329</td>\n",
       "      <td>2.079751</td>\n",
       "    </tr>\n",
       "    <tr>\n",
       "      <th>std</th>\n",
       "      <td>1.803167</td>\n",
       "      <td>12.158221</td>\n",
       "      <td>1.206242</td>\n",
       "      <td>0.096490</td>\n",
       "      <td>1302.469608</td>\n",
       "      <td>2.702413</td>\n",
       "      <td>2.083179</td>\n",
       "      <td>1.974028</td>\n",
       "      <td>1.158571</td>\n",
       "    </tr>\n",
       "    <tr>\n",
       "      <th>min</th>\n",
       "      <td>0.499900</td>\n",
       "      <td>2.000000</td>\n",
       "      <td>0.851064</td>\n",
       "      <td>0.500000</td>\n",
       "      <td>3.000000</td>\n",
       "      <td>0.950000</td>\n",
       "      <td>32.550000</td>\n",
       "      <td>-124.350000</td>\n",
       "      <td>0.149990</td>\n",
       "    </tr>\n",
       "    <tr>\n",
       "      <th>25%</th>\n",
       "      <td>2.602300</td>\n",
       "      <td>17.000000</td>\n",
       "      <td>4.357522</td>\n",
       "      <td>1.020305</td>\n",
       "      <td>952.000000</td>\n",
       "      <td>2.394495</td>\n",
       "      <td>33.930000</td>\n",
       "      <td>-121.800000</td>\n",
       "      <td>1.208000</td>\n",
       "    </tr>\n",
       "    <tr>\n",
       "      <th>50%</th>\n",
       "      <td>3.515600</td>\n",
       "      <td>25.000000</td>\n",
       "      <td>5.068611</td>\n",
       "      <td>1.054545</td>\n",
       "      <td>1383.000000</td>\n",
       "      <td>2.744828</td>\n",
       "      <td>34.190000</td>\n",
       "      <td>-118.450000</td>\n",
       "      <td>1.808000</td>\n",
       "    </tr>\n",
       "    <tr>\n",
       "      <th>75%</th>\n",
       "      <td>4.699700</td>\n",
       "      <td>35.000000</td>\n",
       "      <td>5.858597</td>\n",
       "      <td>1.088825</td>\n",
       "      <td>1856.000000</td>\n",
       "      <td>3.125313</td>\n",
       "      <td>37.700000</td>\n",
       "      <td>-118.020000</td>\n",
       "      <td>2.660000</td>\n",
       "    </tr>\n",
       "    <tr>\n",
       "      <th>max</th>\n",
       "      <td>15.000100</td>\n",
       "      <td>52.000000</td>\n",
       "      <td>28.837607</td>\n",
       "      <td>5.873181</td>\n",
       "      <td>35682.000000</td>\n",
       "      <td>502.990610</td>\n",
       "      <td>41.950000</td>\n",
       "      <td>-114.550000</td>\n",
       "      <td>5.000010</td>\n",
       "    </tr>\n",
       "  </tbody>\n",
       "</table>\n",
       "</div>"
      ],
      "text/plain": [
       "             MedInc      HouseAge      AveRooms     AveBedrms    Population  \\\n",
       "count  37137.000000  37137.000000  37137.000000  37137.000000  37137.000000   \n",
       "mean       3.851029     26.057005      5.163124      1.062204   1660.778919   \n",
       "std        1.803167     12.158221      1.206242      0.096490   1302.469608   \n",
       "min        0.499900      2.000000      0.851064      0.500000      3.000000   \n",
       "25%        2.602300     17.000000      4.357522      1.020305    952.000000   \n",
       "50%        3.515600     25.000000      5.068611      1.054545   1383.000000   \n",
       "75%        4.699700     35.000000      5.858597      1.088825   1856.000000   \n",
       "max       15.000100     52.000000     28.837607      5.873181  35682.000000   \n",
       "\n",
       "           AveOccup      Latitude     Longitude   MedHouseVal  \n",
       "count  37137.000000  37137.000000  37137.000000  37137.000000  \n",
       "mean       2.831243     35.570030   -119.554329      2.079751  \n",
       "std        2.702413      2.083179      1.974028      1.158571  \n",
       "min        0.950000     32.550000   -124.350000      0.149990  \n",
       "25%        2.394495     33.930000   -121.800000      1.208000  \n",
       "50%        2.744828     34.190000   -118.450000      1.808000  \n",
       "75%        3.125313     37.700000   -118.020000      2.660000  \n",
       "max      502.990610     41.950000   -114.550000      5.000010  "
      ]
     },
     "execution_count": 13,
     "metadata": {},
     "output_type": "execute_result"
    }
   ],
   "source": [
    "train_df.describe()"
   ]
  },
  {
   "cell_type": "code",
   "execution_count": 14,
   "metadata": {},
   "outputs": [
    {
     "data": {
      "text/plain": [
       "<AxesSubplot:xlabel='MedHouseVal'>"
      ]
     },
     "execution_count": 14,
     "metadata": {},
     "output_type": "execute_result"
    },
    {
     "data": {
      "image/png": "[encoded data removed]",
      "text/plain": [
       "<Figure size 432x288 with 1 Axes>"
      ]
     },
     "metadata": {
      "needs_background": "light"
     },
     "output_type": "display_data"
    }
   ],
   "source": [
    "sns.boxplot(x='MedHouseVal', data=train_df)\n"
   ]
  },
  {
   "cell_type": "code",
   "execution_count": 15,
   "metadata": {
    "tags": []
   },
   "outputs": [
    {
     "data": {
      "text/plain": [
       "<AxesSubplot:xlabel='MedInc'>"
      ]
     },
     "execution_count": 15,
     "metadata": {},
     "output_type": "execute_result"
    },
    {
     "data": {
      "image/png": "[encoded data removed]",
      "text/plain": [
       "<Figure size 432x288 with 1 Axes>"
      ]
     },
     "metadata": {
      "needs_background": "light"
     },
     "output_type": "display_data"
    }
   ],
   "source": [
    "sns.boxplot(x='MedInc', data=train_df)\n",
    "#MedHouseVal"
   ]
  },
  {
   "cell_type": "code",
   "execution_count": 16,
   "metadata": {},
   "outputs": [
    {
     "data": {
      "text/plain": [
       "<AxesSubplot:xlabel='MedHouseVal'>"
      ]
     },
     "execution_count": 16,
     "metadata": {},
     "output_type": "execute_result"
    },
    {
     "data": {
      "image/png": "[encoded data removed]",
      "text/plain": [
       "<Figure size 432x288 with 1 Axes>"
      ]
     },
     "metadata": {
      "needs_background": "light"
     },
     "output_type": "display_data"
    }
   ],
   "source": [
    "sns.boxplot(x='MedHouseVal', data=train_df)"
   ]
  },
  {
   "cell_type": "code",
   "execution_count": 17,
   "metadata": {},
   "outputs": [
    {
     "data": {
      "text/plain": [
       "<AxesSubplot:xlabel='HouseAge'>"
      ]
     },
     "execution_count": 17,
     "metadata": {},
     "output_type": "execute_result"
    },
    {
     "data": {
      "image/png": "[encoded data removed]",
      "text/plain": [
       "<Figure size 432x288 with 1 Axes>"
      ]
     },
     "metadata": {
      "needs_background": "light"
     },
     "output_type": "display_data"
    }
   ],
   "source": [
    "sns.boxplot(x='HouseAge', data=train_df)"
   ]
  },
  {
   "cell_type": "code",
   "execution_count": 18,
   "metadata": {},
   "outputs": [
    {
     "data": {
      "text/plain": [
       "<AxesSubplot:xlabel='AveRooms'>"
      ]
     },
     "execution_count": 18,
     "metadata": {},
     "output_type": "execute_result"
    },
    {
     "data": {
      "image/png": "[encoded data removed]",
      "text/plain": [
       "<Figure size 432x288 with 1 Axes>"
      ]
     },
     "metadata": {
      "needs_background": "light"
     },
     "output_type": "display_data"
    }
   ],
   "source": [
    "\n",
    "sns.boxplot(x='AveRooms', data=train_df)"
   ]
  },
  {
   "cell_type": "code",
   "execution_count": 19,
   "metadata": {},
   "outputs": [
    {
     "data": {
      "text/plain": [
       "<AxesSubplot:xlabel='AveBedrms'>"
      ]
     },
     "execution_count": 19,
     "metadata": {},
     "output_type": "execute_result"
    },
    {
     "data": {
      "image/png": "[encoded data removed]",
      "text/plain": [
       "<Figure size 432x288 with 1 Axes>"
      ]
     },
     "metadata": {
      "needs_background": "light"
     },
     "output_type": "display_data"
    }
   ],
   "source": [
    "\n",
    "sns.boxplot(x='AveBedrms', data=train_df)"
   ]
  },
  {
   "cell_type": "code",
   "execution_count": 20,
   "metadata": {},
   "outputs": [
    {
     "data": {
      "text/plain": [
       "<AxesSubplot:xlabel='Population'>"
      ]
     },
     "execution_count": 20,
     "metadata": {},
     "output_type": "execute_result"
    },
    {
     "data": {
      "image/png": "[encoded data removed]",
      "text/plain": [
       "<Figure size 432x288 with 1 Axes>"
      ]
     },
     "metadata": {
      "needs_background": "light"
     },
     "output_type": "display_data"
    }
   ],
   "source": [
    "\n",
    "sns.boxplot(x='Population', data=train_df)"
   ]
  },
  {
   "cell_type": "code",
   "execution_count": 21,
   "metadata": {},
   "outputs": [
    {
     "data": {
      "text/plain": [
       "<AxesSubplot:xlabel='AveOccup'>"
      ]
     },
     "execution_count": 21,
     "metadata": {},
     "output_type": "execute_result"
    },
    {
     "data": {
      "image/png": "[encoded data removed]",
      "text/plain": [
       "<Figure size 432x288 with 1 Axes>"
      ]
     },
     "metadata": {
      "needs_background": "light"
     },
     "output_type": "display_data"
    }
   ],
   "source": [
    "\n",
    "sns.boxplot(x='AveOccup', data=train_df)"
   ]
  },
  {
   "cell_type": "markdown",
   "metadata": {},
   "source": [
    "# Modelling"
   ]
  },
  {
   "cell_type": "markdown",
   "metadata": {},
   "source": [
    "## Baseline Model"
   ]
  },
  {
   "cell_type": "code",
   "execution_count": 22,
   "metadata": {},
   "outputs": [],
   "source": [
    "# split into train and validation sets\n",
    "X_train = train_df.copy().drop(columns=['MedHouseVal'])\n",
    "y_train = train_df.copy()['MedHouseVal']\n",
    "\n",
    "X_train, X_val, y_train, y_val = train_test_split(X_train, y_train, test_size=0.2, random_state=1)\n",
    "\n",
    "X_train = X_train.reset_index(drop=True)\n",
    "y_train = y_train.reset_index(drop=True)"
   ]
  },
  {
   "cell_type": "code",
   "execution_count": 23,
   "metadata": {},
   "outputs": [
    {
     "data": {
      "text/plain": [
       "((24759, 1), (7428, 1))"
      ]
     },
     "execution_count": 23,
     "metadata": {},
     "output_type": "execute_result"
    }
   ],
   "source": [
    "#assume mean train price for all MedHouseVal\n",
    "train_mean_price = train_df['MedHouseVal'].mean()\n",
    "train_mean_price\n",
    "\n",
    "y_pred_train_baseline = np.full((X_train.shape[0], 1), train_mean_price, dtype=float)\n",
    "y_pred_val_baseline = np.full((X_val.shape[0], 1), train_mean_price, dtype=float)\n",
    "y_pred_test_baseline = np.full((test_df.shape[0], 1), train_mean_price, dtype=float)\n",
    "\n",
    "y_pred_test_baseline.shape, y_pred_val_baseline.shape"
   ]
  },
  {
   "cell_type": "code",
   "execution_count": null,
   "metadata": {},
   "outputs": [],
   "source": [
    "\n",
    "\n"
   ]
  },
  {
   "cell_type": "code",
   "execution_count": 24,
   "metadata": {},
   "outputs": [
    {
     "name": "stdout",
     "output_type": "stream",
     "text": [
      "y_val:<class 'pandas.core.series.Series'>::(7428,), y_pred_val_baseline:<class 'numpy.ndarray'>::(7428, 1)\n",
      "val_baseline_rmse: 1.163672252024052\n"
     ]
    }
   ],
   "source": [
    "print(f'y_val:{type(y_val)}::{y_val.shape}, y_pred_val_baseline:{type(y_pred_val_baseline)}::{y_pred_val_baseline.shape}')\n",
    "val_baseline_rmse = mean_squared_error(y_val, y_pred_val_baseline, squared=False)\n",
    "print(f'val_baseline_rmse: {val_baseline_rmse}')"
   ]
  },
  {
   "cell_type": "code",
   "execution_count": 25,
   "metadata": {},
   "outputs": [],
   "source": [
    "#build the baseline submission for test set to get score\n",
    "y_baseline_output = pd.DataFrame({'id':test_df['id'], 'MedHouseVal':y_pred_test_baseline[:,0]})\n",
    "y_baseline_output\n",
    "y_baseline_output.to_csv(f'{data_path}/playground-series-s3e1/y_baseline_output.csv', index=False)\n",
    "# Score: 1.15399"
   ]
  },
  {
   "cell_type": "markdown",
   "metadata": {},
   "source": [
    "## H2O AutoML"
   ]
  },
  {
   "cell_type": "code",
   "execution_count": 26,
   "metadata": {},
   "outputs": [
    {
     "data": {
      "text/html": [
       "<div>\n",
       "<style scoped>\n",
       "    .dataframe tbody tr th:only-of-type {\n",
       "        vertical-align: middle;\n",
       "    }\n",
       "\n",
       "    .dataframe tbody tr th {\n",
       "        vertical-align: top;\n",
       "    }\n",
       "\n",
       "    .dataframe thead th {\n",
       "        text-align: right;\n",
       "    }\n",
       "</style>\n",
       "<table border=\"1\" class=\"dataframe\">\n",
       "  <thead>\n",
       "    <tr style=\"text-align: right;\">\n",
       "      <th></th>\n",
       "      <th>MedInc</th>\n",
       "      <th>HouseAge</th>\n",
       "      <th>AveRooms</th>\n",
       "      <th>AveBedrms</th>\n",
       "      <th>Population</th>\n",
       "      <th>AveOccup</th>\n",
       "      <th>Latitude</th>\n",
       "      <th>Longitude</th>\n",
       "      <th>MedHouseVal</th>\n",
       "    </tr>\n",
       "    <tr>\n",
       "      <th>id</th>\n",
       "      <th></th>\n",
       "      <th></th>\n",
       "      <th></th>\n",
       "      <th></th>\n",
       "      <th></th>\n",
       "      <th></th>\n",
       "      <th></th>\n",
       "      <th></th>\n",
       "      <th></th>\n",
       "    </tr>\n",
       "  </thead>\n",
       "  <tbody>\n",
       "    <tr>\n",
       "      <th>0</th>\n",
       "      <td>2.3859</td>\n",
       "      <td>15.0</td>\n",
       "      <td>3.827160</td>\n",
       "      <td>1.112100</td>\n",
       "      <td>1280.0</td>\n",
       "      <td>2.486989</td>\n",
       "      <td>34.60</td>\n",
       "      <td>-120.12</td>\n",
       "      <td>0.980</td>\n",
       "    </tr>\n",
       "    <tr>\n",
       "      <th>1</th>\n",
       "      <td>3.7188</td>\n",
       "      <td>17.0</td>\n",
       "      <td>6.013373</td>\n",
       "      <td>1.054217</td>\n",
       "      <td>1504.0</td>\n",
       "      <td>3.813084</td>\n",
       "      <td>38.69</td>\n",
       "      <td>-121.22</td>\n",
       "      <td>0.946</td>\n",
       "    </tr>\n",
       "    <tr>\n",
       "      <th>2</th>\n",
       "      <td>4.7750</td>\n",
       "      <td>27.0</td>\n",
       "      <td>6.535604</td>\n",
       "      <td>1.103175</td>\n",
       "      <td>1061.0</td>\n",
       "      <td>2.464602</td>\n",
       "      <td>34.71</td>\n",
       "      <td>-120.45</td>\n",
       "      <td>1.576</td>\n",
       "    </tr>\n",
       "    <tr>\n",
       "      <th>3</th>\n",
       "      <td>2.4138</td>\n",
       "      <td>16.0</td>\n",
       "      <td>3.350203</td>\n",
       "      <td>0.965432</td>\n",
       "      <td>1255.0</td>\n",
       "      <td>2.089286</td>\n",
       "      <td>32.66</td>\n",
       "      <td>-117.09</td>\n",
       "      <td>1.336</td>\n",
       "    </tr>\n",
       "    <tr>\n",
       "      <th>4</th>\n",
       "      <td>3.7500</td>\n",
       "      <td>52.0</td>\n",
       "      <td>4.284404</td>\n",
       "      <td>1.069246</td>\n",
       "      <td>1793.0</td>\n",
       "      <td>1.604790</td>\n",
       "      <td>37.80</td>\n",
       "      <td>-122.41</td>\n",
       "      <td>4.500</td>\n",
       "    </tr>\n",
       "  </tbody>\n",
       "</table>\n",
       "</div>"
      ],
      "text/plain": [
       "    MedInc  HouseAge  AveRooms  AveBedrms  Population  AveOccup  Latitude  \\\n",
       "id                                                                          \n",
       "0   2.3859      15.0  3.827160   1.112100      1280.0  2.486989     34.60   \n",
       "1   3.7188      17.0  6.013373   1.054217      1504.0  3.813084     38.69   \n",
       "2   4.7750      27.0  6.535604   1.103175      1061.0  2.464602     34.71   \n",
       "3   2.4138      16.0  3.350203   0.965432      1255.0  2.089286     32.66   \n",
       "4   3.7500      52.0  4.284404   1.069246      1793.0  1.604790     37.80   \n",
       "\n",
       "    Longitude  MedHouseVal  \n",
       "id                          \n",
       "0     -120.12        0.980  \n",
       "1     -121.22        0.946  \n",
       "2     -120.45        1.576  \n",
       "3     -117.09        1.336  \n",
       "4     -122.41        4.500  "
      ]
     },
     "execution_count": 26,
     "metadata": {},
     "output_type": "execute_result"
    }
   ],
   "source": [
    "train_df.head()"
   ]
  },
  {
   "cell_type": "code",
   "execution_count": 27,
   "metadata": {},
   "outputs": [],
   "source": [
    "# X_test"
   ]
  },
  {
   "cell_type": "code",
   "execution_count": 28,
   "metadata": {},
   "outputs": [],
   "source": [
    "# X_val_scaled"
   ]
  },
  {
   "cell_type": "code",
   "execution_count": 29,
   "metadata": {},
   "outputs": [],
   "source": [
    "from sklearn.preprocessing import StandardScaler, MinMaxScaler, RobustScaler\n",
    "\n",
    "X_test = test_df.copy()\n",
    "X_test = X_test.drop(columns='id')\n",
    "\n",
    "# scaler = StandardScaler()\n",
    "scaler = RobustScaler()\n",
    "\n",
    "X_train_scaled = pd.DataFrame(scaler.fit_transform(X_train), columns=X_train.columns)\n",
    "X_val_scaled = pd.DataFrame(scaler.transform(X_val), columns=X_val.columns)\n",
    "X_test_scaled = pd.DataFrame(scaler.transform(X_test), columns=X_test.columns)\n",
    "\n",
    "X_train_scaled = X_train.copy()\n",
    "X_val_scaled = X_val.copy()\n",
    "X_test_scaled = X_test.copy()"
   ]
  },
  {
   "cell_type": "code",
   "execution_count": 30,
   "metadata": {},
   "outputs": [
    {
     "name": "stdout",
     "output_type": "stream",
     "text": [
      "Checking whether there is an H2O instance running at http://localhost:54321 . connected.\n"
     ]
    },
    {
     "data": {
      "text/html": [
       "\n",
       "<style>\n",
       "\n",
       "#h2o-table-1.h2o-container {\n",
       "  overflow-x: auto;\n",
       "}\n",
       "#h2o-table-1 .h2o-table {\n",
       "  /* width: 100%; */\n",
       "  margin-top: 1em;\n",
       "  margin-bottom: 1em;\n",
       "}\n",
       "#h2o-table-1 .h2o-table caption {\n",
       "  white-space: nowrap;\n",
       "  caption-side: top;\n",
       "  text-align: left;\n",
       "  /* margin-left: 1em; */\n",
       "  margin: 0;\n",
       "  font-size: larger;\n",
       "}\n",
       "#h2o-table-1 .h2o-table thead {\n",
       "  white-space: nowrap; \n",
       "  position: sticky;\n",
       "  top: 0;\n",
       "  box-shadow: 0 -1px inset;\n",
       "}\n",
       "#h2o-table-1 .h2o-table tbody {\n",
       "  overflow: auto;\n",
       "}\n",
       "#h2o-table-1 .h2o-table th,\n",
       "#h2o-table-1 .h2o-table td {\n",
       "  text-align: right;\n",
       "  /* border: 1px solid; */\n",
       "}\n",
       "#h2o-table-1 .h2o-table tr:nth-child(even) {\n",
       "  /* background: #F5F5F5 */\n",
       "}\n",
       "\n",
       "</style>      \n",
       "<div id=\"h2o-table-1\" class=\"h2o-container\">\n",
       "  <table class=\"h2o-table\">\n",
       "    <caption></caption>\n",
       "    <thead></thead>\n",
       "    <tbody><tr><td>H2O_cluster_uptime:</td>\n",
       "<td>1 day 18 hours 45 mins</td></tr>\n",
       "<tr><td>H2O_cluster_timezone:</td>\n",
       "<td>Europe/Belgrade</td></tr>\n",
       "<tr><td>H2O_data_parsing_timezone:</td>\n",
       "<td>UTC</td></tr>\n",
       "<tr><td>H2O_cluster_version:</td>\n",
       "<td>3.38.0.4</td></tr>\n",
       "<tr><td>H2O_cluster_version_age:</td>\n",
       "<td>26 days </td></tr>\n",
       "<tr><td>H2O_cluster_name:</td>\n",
       "<td>H2O_from_python_dbd_b2xmk8</td></tr>\n",
       "<tr><td>H2O_cluster_total_nodes:</td>\n",
       "<td>1</td></tr>\n",
       "<tr><td>H2O_cluster_free_memory:</td>\n",
       "<td>541 Mb</td></tr>\n",
       "<tr><td>H2O_cluster_total_cores:</td>\n",
       "<td>8</td></tr>\n",
       "<tr><td>H2O_cluster_allowed_cores:</td>\n",
       "<td>8</td></tr>\n",
       "<tr><td>H2O_cluster_status:</td>\n",
       "<td>locked, healthy</td></tr>\n",
       "<tr><td>H2O_connection_url:</td>\n",
       "<td>http://localhost:54321</td></tr>\n",
       "<tr><td>H2O_connection_proxy:</td>\n",
       "<td>{\"http\": null, \"https\": null}</td></tr>\n",
       "<tr><td>H2O_internal_security:</td>\n",
       "<td>False</td></tr>\n",
       "<tr><td>Python_version:</td>\n",
       "<td>3.10.8 final</td></tr></tbody>\n",
       "  </table>\n",
       "</div>\n"
      ],
      "text/plain": [
       "--------------------------  -----------------------------\n",
       "H2O_cluster_uptime:         1 day 18 hours 45 mins\n",
       "H2O_cluster_timezone:       Europe/Belgrade\n",
       "H2O_data_parsing_timezone:  UTC\n",
       "H2O_cluster_version:        3.38.0.4\n",
       "H2O_cluster_version_age:    26 days\n",
       "H2O_cluster_name:           H2O_from_python_dbd_b2xmk8\n",
       "H2O_cluster_total_nodes:    1\n",
       "H2O_cluster_free_memory:    541 Mb\n",
       "H2O_cluster_total_cores:    8\n",
       "H2O_cluster_allowed_cores:  8\n",
       "H2O_cluster_status:         locked, healthy\n",
       "H2O_connection_url:         http://localhost:54321\n",
       "H2O_connection_proxy:       {\"http\": null, \"https\": null}\n",
       "H2O_internal_security:      False\n",
       "Python_version:             3.10.8 final\n",
       "--------------------------  -----------------------------"
      ]
     },
     "metadata": {},
     "output_type": "display_data"
    }
   ],
   "source": [
    "do_automl = True\n",
    "\n",
    "if do_automl:\n",
    "    import h2o\n",
    "    from h2o.automl import H2OAutoML\n",
    "    h2o.init()\n",
    "    aml = H2OAutoML(max_models=20,\n",
    "                    balance_classes=False, \n",
    "                    exploitation_ratio=.1,\n",
    "                    stopping_metric = 'rmse', \n",
    "                    stopping_rounds = 5,\n",
    "                    exclude_algos = ['DeepLearning']\n",
    "                   )"
   ]
  },
  {
   "cell_type": "code",
   "execution_count": 31,
   "metadata": {},
   "outputs": [],
   "source": [
    "# X_train_scaled"
   ]
  },
  {
   "cell_type": "code",
   "execution_count": 32,
   "metadata": {},
   "outputs": [],
   "source": [
    "# y_train"
   ]
  },
  {
   "cell_type": "code",
   "execution_count": 33,
   "metadata": {},
   "outputs": [],
   "source": [
    "# y_val"
   ]
  },
  {
   "cell_type": "code",
   "execution_count": 34,
   "metadata": {},
   "outputs": [],
   "source": [
    "# X_train_with_target.isna().sum()\n",
    "# X_train_with_target['MedHouseVal'].mean(), X_val_with_target['MedHouseVal'].mean()"
   ]
  },
  {
   "cell_type": "code",
   "execution_count": 35,
   "metadata": {},
   "outputs": [
    {
     "name": "stdout",
     "output_type": "stream",
     "text": [
      "Parse progress: |████████████████████████████████████████████████████████████████| (done) 100%\n",
      "Parse progress: |████████████████████████████████████████████████████████████████| (done) 100%\n",
      "AutoML progress: |███████████████████████████████████████████████████████████████| (done) 100%\n"
     ]
    }
   ],
   "source": [
    "def _convert_h2oframe_to_numeric(h2o_frame, training_columns):\n",
    "    for column in training_columns:\n",
    "        h2o_frame[column] = h2o_frame[column].asnumeric()\n",
    "    return h2o_frame\n",
    "\n",
    "if do_automl:\n",
    "\n",
    "    X_train_with_target = X_train_scaled.copy()\n",
    "    X_train_with_target['MedHouseVal'] = y_train\n",
    "    h2o_train = h2o.H2OFrame(X_train_with_target)\n",
    "    h2o_train = _convert_h2oframe_to_numeric(h2o_train, X_train_with_target.columns)\n",
    "\n",
    "    X_val_with_target = X_val_scaled.copy()\n",
    "    X_val_with_target['MedHouseVal'] = y_val\n",
    "    h2o_val = h2o.H2OFrame(X_val_with_target)\n",
    "    h2o_val = _convert_h2oframe_to_numeric(h2o_val, X_val_with_target.columns)\n",
    "    \n",
    "    aml.train(training_frame=h2o_train, y='MedHouseVal', )#, validation_frame=h2o_val)\n",
    "    \n",
    "    lb = aml.leaderboard\n",
    "    lb.head(rows=lb.nrows)"
   ]
  },
  {
   "cell_type": "code",
   "execution_count": 36,
   "metadata": {},
   "outputs": [],
   "source": [
    "# X_val_with_target.dtypes, X_train_with_target.dtypes"
   ]
  },
  {
   "cell_type": "code",
   "execution_count": 37,
   "metadata": {},
   "outputs": [],
   "source": [
    "# if do_automl:\n",
    "#     best_model_h2o = aml.get_best_model()\n",
    "#     model_performance_h2o = best_model_h2o.model_performance(h2o_val)\n",
    "#     print(model_performance_h2o)"
   ]
  },
  {
   "cell_type": "code",
   "execution_count": 38,
   "metadata": {},
   "outputs": [
    {
     "name": "stdout",
     "output_type": "stream",
     "text": [
      "Parse progress: |████████████████████████████████████████████████████████████████| (done) 100%\n",
      "stackedensemble prediction progress: |███████████████████████████████████████████| (done) 100%\n",
      "val_rmse: 0.5744572435330313\n"
     ]
    }
   ],
   "source": [
    "if do_automl:\n",
    "    \n",
    "    best_model_h2o = aml.get_best_model()\n",
    "    y_val_pred = (best_model_h2o.predict(h2o.H2OFrame(X_val_scaled))).as_data_frame()\n",
    "\n",
    "    val_rmse = mean_squared_error(y_val, y_val_pred, squared=False)\n",
    "    print(f'val_rmse: {val_rmse}')    \n"
   ]
  },
  {
   "cell_type": "code",
   "execution_count": 39,
   "metadata": {},
   "outputs": [
    {
     "name": "stdout",
     "output_type": "stream",
     "text": [
      "Parse progress: |████████████████████████████████████████████████████████████████| (done) 100%\n",
      "stackedensemble prediction progress: |███████████████████████████████████████████| (done) 100%\n",
      "RESULT (NO SCALING - 10 models): Public score: 0.56811, Private score: 0.56553\n",
      "RESULT (MinMaxScaler - 3 models): Public Score: 0.57088 Private score: 0.5686\n",
      "RESULT (RobustScaler - 3 models): Public Score: 0.57224 Private score: 0.56822\n",
      "RESULT (NO SCALING - 100 models): \n"
     ]
    }
   ],
   "source": [
    "if do_automl:\n",
    "        \n",
    "    y_pred_best_model = best_model_h2o.predict(h2o.H2OFrame(X_test_scaled))\n",
    "    y_pred_best_model_df = y_pred_best_model.as_data_frame()\n",
    "    y_pred_best_model_df.columns = ['MedHouseVal']\n",
    "    y_pred_best_model_df['id'] = test_df['id']    \n",
    "    \n",
    "    y_pred_best_model_df.to_csv(f'{data_path}/playground-series-s3e1/h2o_pred_robust.csv', index=False)\n",
    "    \n",
    "    print('RESULT (NO SCALING - 10 models): Public score: 0.56811, Private score: 0.56553')\n",
    "    print('RESULT (MinMaxScaler - 3 models): Public Score: 0.57088 Private score: 0.5686')\n",
    "    print('RESULT (RobustScaler - 3 models): Public Score: 0.57224 Private score: 0.56822')\n",
    "    print('RESULT (RobustScaler - 10 models): ')\n",
    "    \n",
    "\n"
   ]
  },
  {
   "cell_type": "markdown",
   "metadata": {},
   "source": [
    "## Neural Network"
   ]
  },
  {
   "cell_type": "code",
   "execution_count": 40,
   "metadata": {},
   "outputs": [],
   "source": [
    "from tensorflow.keras import models\n",
    "from tensorflow.keras import layers\n",
    "import tensorflow as tf\n",
    "from tensorflow import cast\n",
    "from tensorflow.keras.metrics import RootMeanSquaredError\n",
    "\n",
    "def initialize_model():\n",
    "    model = models.Sequential()\n",
    "    \n",
    "    model.add(layers.Dense(250, activation='relu', input_dim=X_train.shape[-1]))\n",
    "    # model.add(layers.Dropout(.1))\n",
    "    model.add(layers.Dense(250, activation='relu'))\n",
    "    # model.add(layers.Dropout(.1))\n",
    "    model.add(layers.Dense(125, activation='relu'))\n",
    "    # model.add(layers.Dropout(.1))\n",
    "    model.add(layers.Dense(1, activation='linear'))\n",
    "       \n",
    "    return model\n",
    "\n",
    "def compile_model(model, name):\n",
    "    \n",
    "    model.compile(loss='mse',\n",
    "                 optimizer=name,\n",
    "                 metrics=[RootMeanSquaredError()])"
   ]
  },
  {
   "cell_type": "code",
   "execution_count": 41,
   "metadata": {},
   "outputs": [
    {
     "name": "stderr",
     "output_type": "stream",
     "text": [
      "2023-02-01 15:41:57.598046: W tensorflow/core/platform/profile_utils/cpu_utils.cc:128] Failed to get CPU frequency: 0 Hz\n"
     ]
    },
    {
     "name": "stdout",
     "output_type": "stream",
     "text": [
      "233/233 [==============================] - 0s 412us/step - loss: 0.5075 - root_mean_squared_error: 0.7124\n",
      "adam:: train_root_mean_squared_error: 0.9980161721291749, val_root_mean_squared_error: 0.8067004784293796, best_test_rmse: 0.7123927474021912\n"
     ]
    }
   ],
   "source": [
    "from tensorflow.keras.callbacks import EarlyStopping\n",
    "\n",
    "\n",
    "import matplotlib.pyplot as plt\n",
    "\n",
    "best_test_rmse = None\n",
    "best_nn_model = None\n",
    "optimizers = ['adam']#, 'sgd', 'adadelta', 'adagrad', 'rmsprop']\n",
    "\n",
    "y_train_tensor = tf.cast(y_train , dtype=tf.float32)\n",
    "y_val_tensor = tf.cast(y_val , dtype=tf.float32)\n",
    "\n",
    "for optimizer in optimizers:\n",
    "    model = initialize_model()\n",
    "\n",
    "    # optimizer = 'adam'\n",
    "    compile_model(model, optimizer)\n",
    "\n",
    "    #optimize for validation accuracy\n",
    "    es = EarlyStopping(patience=10, restore_best_weights=True, monitor='val_root_mean_squared_error')\n",
    "\n",
    "    history = model.fit(X_train, \n",
    "                        y_train_tensor,\n",
    "                        validation_data=(X_val, y_val_tensor),\n",
    "                        epochs=50,\n",
    "                        batch_size=8,\n",
    "                        callbacks = [es],\n",
    "                        verbose=0,\n",
    "                       )\n",
    "        \n",
    "    test_rmse = model.evaluate(X_val, y_val_tensor)[1]\n",
    "    if (best_test_rmse is None) or (test_rmse > best_test_rmse):\n",
    "        best_test_rmse = test_rmse\n",
    "        best_nn_model = model\n",
    "\n",
    "    print(f'{optimizer}:: train_root_mean_squared_error: {np.mean(history.history[\"root_mean_squared_error\"])}, val_root_mean_squared_error: {np.mean(history.history[\"val_root_mean_squared_error\"])}, best_test_rmse: {best_test_rmse}')\n"
   ]
  },
  {
   "cell_type": "code",
   "execution_count": 42,
   "metadata": {},
   "outputs": [],
   "source": [
    "test_df.head()\n",
    "X_test = test_df.copy().drop(columns='id')"
   ]
  },
  {
   "cell_type": "code",
   "execution_count": 43,
   "metadata": {},
   "outputs": [
    {
     "data": {
      "text/html": [
       "<div>\n",
       "<style scoped>\n",
       "    .dataframe tbody tr th:only-of-type {\n",
       "        vertical-align: middle;\n",
       "    }\n",
       "\n",
       "    .dataframe tbody tr th {\n",
       "        vertical-align: top;\n",
       "    }\n",
       "\n",
       "    .dataframe thead th {\n",
       "        text-align: right;\n",
       "    }\n",
       "</style>\n",
       "<table border=\"1\" class=\"dataframe\">\n",
       "  <thead>\n",
       "    <tr style=\"text-align: right;\">\n",
       "      <th></th>\n",
       "      <th>MedInc</th>\n",
       "      <th>HouseAge</th>\n",
       "      <th>AveRooms</th>\n",
       "      <th>AveBedrms</th>\n",
       "      <th>Population</th>\n",
       "      <th>AveOccup</th>\n",
       "      <th>Latitude</th>\n",
       "      <th>Longitude</th>\n",
       "    </tr>\n",
       "  </thead>\n",
       "  <tbody>\n",
       "    <tr>\n",
       "      <th>0</th>\n",
       "      <td>3.9699</td>\n",
       "      <td>25.0</td>\n",
       "      <td>4.449514</td>\n",
       "      <td>1.073580</td>\n",
       "      <td>1230.0</td>\n",
       "      <td>2.682510</td>\n",
       "      <td>37.30</td>\n",
       "      <td>-121.92</td>\n",
       "    </tr>\n",
       "    <tr>\n",
       "      <th>1</th>\n",
       "      <td>3.3897</td>\n",
       "      <td>15.0</td>\n",
       "      <td>4.064272</td>\n",
       "      <td>1.127789</td>\n",
       "      <td>1358.0</td>\n",
       "      <td>2.005764</td>\n",
       "      <td>37.33</td>\n",
       "      <td>-121.82</td>\n",
       "    </tr>\n",
       "    <tr>\n",
       "      <th>2</th>\n",
       "      <td>3.1773</td>\n",
       "      <td>12.0</td>\n",
       "      <td>4.953069</td>\n",
       "      <td>1.059172</td>\n",
       "      <td>1504.0</td>\n",
       "      <td>2.553314</td>\n",
       "      <td>33.00</td>\n",
       "      <td>-117.08</td>\n",
       "    </tr>\n",
       "    <tr>\n",
       "      <th>3</th>\n",
       "      <td>4.2566</td>\n",
       "      <td>28.0</td>\n",
       "      <td>5.245509</td>\n",
       "      <td>1.079805</td>\n",
       "      <td>1543.0</td>\n",
       "      <td>2.835846</td>\n",
       "      <td>38.49</td>\n",
       "      <td>-121.52</td>\n",
       "    </tr>\n",
       "    <tr>\n",
       "      <th>4</th>\n",
       "      <td>3.5072</td>\n",
       "      <td>23.0</td>\n",
       "      <td>4.285714</td>\n",
       "      <td>1.090047</td>\n",
       "      <td>983.0</td>\n",
       "      <td>2.000000</td>\n",
       "      <td>37.30</td>\n",
       "      <td>-121.96</td>\n",
       "    </tr>\n",
       "  </tbody>\n",
       "</table>\n",
       "</div>"
      ],
      "text/plain": [
       "   MedInc  HouseAge  AveRooms  AveBedrms  Population  AveOccup  Latitude  \\\n",
       "0  3.9699      25.0  4.449514   1.073580      1230.0  2.682510     37.30   \n",
       "1  3.3897      15.0  4.064272   1.127789      1358.0  2.005764     37.33   \n",
       "2  3.1773      12.0  4.953069   1.059172      1504.0  2.553314     33.00   \n",
       "3  4.2566      28.0  5.245509   1.079805      1543.0  2.835846     38.49   \n",
       "4  3.5072      23.0  4.285714   1.090047       983.0  2.000000     37.30   \n",
       "\n",
       "   Longitude  \n",
       "0    -121.92  \n",
       "1    -121.82  \n",
       "2    -117.08  \n",
       "3    -121.52  \n",
       "4    -121.96  "
      ]
     },
     "execution_count": 43,
     "metadata": {},
     "output_type": "execute_result"
    }
   ],
   "source": [
    "X_train.head()"
   ]
  },
  {
   "cell_type": "code",
   "execution_count": 44,
   "metadata": {},
   "outputs": [
    {
     "name": "stdout",
     "output_type": "stream",
     "text": [
      "774/774 [==============================] - 0s 322us/step\n"
     ]
    }
   ],
   "source": [
    "y_pred_nn_best_model = best_nn_model.predict(X_test)\n",
    "y_pred_nn_best_model_df = pd.DataFrame(y_pred_nn_best_model)\n",
    "y_pred_nn_best_model_df.columns = ['MedHouseVal']\n",
    "y_pred_nn_best_model_df['id'] = test_df['id']    \n",
    "\n",
    "y_pred_nn_best_model_df.to_csv(f'{data_path}/playground-series-s3e1/nn_pred.csv', index=False)"
   ]
  },
  {
   "cell_type": "code",
   "execution_count": 45,
   "metadata": {},
   "outputs": [
    {
     "data": {
      "text/html": [
       "<div>\n",
       "<style scoped>\n",
       "    .dataframe tbody tr th:only-of-type {\n",
       "        vertical-align: middle;\n",
       "    }\n",
       "\n",
       "    .dataframe tbody tr th {\n",
       "        vertical-align: top;\n",
       "    }\n",
       "\n",
       "    .dataframe thead th {\n",
       "        text-align: right;\n",
       "    }\n",
       "</style>\n",
       "<table border=\"1\" class=\"dataframe\">\n",
       "  <thead>\n",
       "    <tr style=\"text-align: right;\">\n",
       "      <th></th>\n",
       "      <th>MedHouseVal</th>\n",
       "      <th>id</th>\n",
       "    </tr>\n",
       "  </thead>\n",
       "  <tbody>\n",
       "    <tr>\n",
       "      <th>0</th>\n",
       "      <td>0.806922</td>\n",
       "      <td>37137</td>\n",
       "    </tr>\n",
       "    <tr>\n",
       "      <th>1</th>\n",
       "      <td>0.988457</td>\n",
       "      <td>37138</td>\n",
       "    </tr>\n",
       "    <tr>\n",
       "      <th>2</th>\n",
       "      <td>4.113534</td>\n",
       "      <td>37139</td>\n",
       "    </tr>\n",
       "    <tr>\n",
       "      <th>3</th>\n",
       "      <td>3.941262</td>\n",
       "      <td>37140</td>\n",
       "    </tr>\n",
       "    <tr>\n",
       "      <th>4</th>\n",
       "      <td>2.285804</td>\n",
       "      <td>37141</td>\n",
       "    </tr>\n",
       "    <tr>\n",
       "      <th>...</th>\n",
       "      <td>...</td>\n",
       "      <td>...</td>\n",
       "    </tr>\n",
       "    <tr>\n",
       "      <th>24754</th>\n",
       "      <td>1.720855</td>\n",
       "      <td>61891</td>\n",
       "    </tr>\n",
       "    <tr>\n",
       "      <th>24755</th>\n",
       "      <td>2.029697</td>\n",
       "      <td>61892</td>\n",
       "    </tr>\n",
       "    <tr>\n",
       "      <th>24756</th>\n",
       "      <td>1.593044</td>\n",
       "      <td>61893</td>\n",
       "    </tr>\n",
       "    <tr>\n",
       "      <th>24757</th>\n",
       "      <td>3.737548</td>\n",
       "      <td>61894</td>\n",
       "    </tr>\n",
       "    <tr>\n",
       "      <th>24758</th>\n",
       "      <td>3.057045</td>\n",
       "      <td>61895</td>\n",
       "    </tr>\n",
       "  </tbody>\n",
       "</table>\n",
       "<p>24759 rows × 2 columns</p>\n",
       "</div>"
      ],
      "text/plain": [
       "       MedHouseVal     id\n",
       "0         0.806922  37137\n",
       "1         0.988457  37138\n",
       "2         4.113534  37139\n",
       "3         3.941262  37140\n",
       "4         2.285804  37141\n",
       "...            ...    ...\n",
       "24754     1.720855  61891\n",
       "24755     2.029697  61892\n",
       "24756     1.593044  61893\n",
       "24757     3.737548  61894\n",
       "24758     3.057045  61895\n",
       "\n",
       "[24759 rows x 2 columns]"
      ]
     },
     "execution_count": 45,
     "metadata": {},
     "output_type": "execute_result"
    }
   ],
   "source": [
    "y_pred_nn_best_model_df"
   ]
  },
  {
   "cell_type": "code",
   "execution_count": 46,
   "metadata": {},
   "outputs": [
    {
     "name": "stdout",
     "output_type": "stream",
     "text": [
      "1.24.1\n",
      "['/Users/dbd/miniconda/envs/tf_kaggle/lib/python3.10/site-packages/numpy']\n"
     ]
    }
   ],
   "source": [
    "print (np.__version__)\n",
    "print (np.__path__)"
   ]
  },
  {
   "cell_type": "code",
   "execution_count": 47,
   "metadata": {},
   "outputs": [
    {
     "name": "stdout",
     "output_type": "stream",
     "text": [
      "train_df: (37137, 9)\n",
      "train_df: (37137, 9)\n"
     ]
    }
   ],
   "source": [
    "#drop some extreme outliers\n",
    "print(f'train_df: {train_df.shape}')\n",
    "# train_df = train_df[train_df['AveOccup'] < 100]\n",
    "print(f'train_df: {train_df.shape}')"
   ]
  },
  {
   "cell_type": "code",
   "execution_count": 48,
   "metadata": {},
   "outputs": [
    {
     "data": {
      "text/plain": [
       "((29709, 8), (29709,))"
      ]
     },
     "execution_count": 48,
     "metadata": {},
     "output_type": "execute_result"
    }
   ],
   "source": [
    "# X_train = X_train.reset_index(drop=True)\n",
    "X_train.shape, y_train.shape"
   ]
  }
 ],
 "metadata": {
  "kernelspec": {
   "display_name": "conda_tf_kaggle",
   "language": "python",
   "name": "conda_tf_kaggle"
  },
  "language_info": {
   "codemirror_mode": {
    "name": "ipython",
    "version": 3
   },
   "file_extension": ".py",
   "mimetype": "text/x-python",
   "name": "python",
   "nbconvert_exporter": "python",
   "pygments_lexer": "ipython3",
   "version": "3.10.8"
  },
  "toc": {
   "base_numbering": 1,
   "nav_menu": {},
   "number_sections": true,
   "sideBar": true,
   "skip_h1_title": false,
   "title_cell": "Table of Contents",
   "title_sidebar": "Contents",
   "toc_cell": false,
   "toc_position": {},
   "toc_section_display": true,
   "toc_window_display": false
  }
 },
 "nbformat": 4,
 "nbformat_minor": 4
}
